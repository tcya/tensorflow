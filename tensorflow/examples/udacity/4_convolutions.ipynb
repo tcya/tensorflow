{
 "cells": [
  {
   "cell_type": "markdown",
   "metadata": {
    "colab_type": "text",
    "id": "4embtkV0pNxM"
   },
   "source": [
    "Deep Learning\n",
    "=============\n",
    "\n",
    "Assignment 4\n",
    "------------\n",
    "\n",
    "Previously in `2_fullyconnected.ipynb` and `3_regularization.ipynb`, we trained fully connected networks to classify [notMNIST](http://yaroslavvb.blogspot.com/2011/09/notmnist-dataset.html) characters.\n",
    "\n",
    "The goal of this assignment is make the neural network convolutional."
   ]
  },
  {
   "cell_type": "code",
   "execution_count": 1,
   "metadata": {
    "cellView": "both",
    "colab": {
     "autoexec": {
      "startup": false,
      "wait_interval": 0
     }
    },
    "colab_type": "code",
    "collapsed": true,
    "id": "tm2CQN_Cpwj0"
   },
   "outputs": [],
   "source": [
    "# These are all the modules we'll be using later. Make sure you can import them\n",
    "# before proceeding further.\n",
    "import numpy as np\n",
    "import tensorflow as tf\n",
    "from six.moves import cPickle as pickle\n",
    "from six.moves import range"
   ]
  },
  {
   "cell_type": "code",
   "execution_count": 2,
   "metadata": {
    "cellView": "both",
    "colab": {
     "autoexec": {
      "startup": false,
      "wait_interval": 0
     },
     "output_extras": [
      {
       "item_id": 1
      }
     ]
    },
    "colab_type": "code",
    "collapsed": false,
    "executionInfo": {
     "elapsed": 11948,
     "status": "ok",
     "timestamp": 1446658914837,
     "user": {
      "color": "",
      "displayName": "",
      "isAnonymous": false,
      "isMe": true,
      "permissionId": "",
      "photoUrl": "",
      "sessionId": "0",
      "userId": ""
     },
     "user_tz": 480
    },
    "id": "y3-cj1bpmuxc",
    "outputId": "016b1a51-0290-4b08-efdb-8c95ffc3cd01"
   },
   "outputs": [
    {
     "name": "stdout",
     "output_type": "stream",
     "text": [
      "('Training set', (200000, 28, 28), (200000,))\n",
      "('Validation set', (10000, 28, 28), (10000,))\n",
      "('Test set', (10000, 28, 28), (10000,))\n"
     ]
    }
   ],
   "source": [
    "pickle_file = 'notMNIST.pickle'\n",
    "\n",
    "with open(pickle_file, 'rb') as f:\n",
    "  save = pickle.load(f)\n",
    "  train_dataset = save['train_dataset']\n",
    "  train_labels = save['train_labels']\n",
    "  valid_dataset = save['valid_dataset']\n",
    "  valid_labels = save['valid_labels']\n",
    "  test_dataset = save['test_dataset']\n",
    "  test_labels = save['test_labels']\n",
    "  del save  # hint to help gc free up memory\n",
    "  print('Training set', train_dataset.shape, train_labels.shape)\n",
    "  print('Validation set', valid_dataset.shape, valid_labels.shape)\n",
    "  print('Test set', test_dataset.shape, test_labels.shape)"
   ]
  },
  {
   "cell_type": "markdown",
   "metadata": {
    "colab_type": "text",
    "id": "L7aHrm6nGDMB"
   },
   "source": [
    "Reformat into a TensorFlow-friendly shape:\n",
    "- convolutions need the image data formatted as a cube (width by height by #channels)\n",
    "- labels as float 1-hot encodings."
   ]
  },
  {
   "cell_type": "code",
   "execution_count": 3,
   "metadata": {
    "cellView": "both",
    "colab": {
     "autoexec": {
      "startup": false,
      "wait_interval": 0
     },
     "output_extras": [
      {
       "item_id": 1
      }
     ]
    },
    "colab_type": "code",
    "collapsed": false,
    "executionInfo": {
     "elapsed": 11952,
     "status": "ok",
     "timestamp": 1446658914857,
     "user": {
      "color": "",
      "displayName": "",
      "isAnonymous": false,
      "isMe": true,
      "permissionId": "",
      "photoUrl": "",
      "sessionId": "0",
      "userId": ""
     },
     "user_tz": 480
    },
    "id": "IRSyYiIIGIzS",
    "outputId": "650a208c-8359-4852-f4f5-8bf10e80ef6c"
   },
   "outputs": [
    {
     "name": "stdout",
     "output_type": "stream",
     "text": [
      "('Training set', (200000, 28, 28, 1), (200000, 10))\n",
      "('Validation set', (10000, 28, 28, 1), (10000, 10))\n",
      "('Test set', (10000, 28, 28, 1), (10000, 10))\n"
     ]
    }
   ],
   "source": [
    "image_size = 28\n",
    "num_labels = 10\n",
    "num_channels = 1 # grayscale\n",
    "\n",
    "import numpy as np\n",
    "\n",
    "def reformat(dataset, labels):\n",
    "  dataset = dataset.reshape(\n",
    "    (-1, image_size, image_size, num_channels)).astype(np.float32)\n",
    "  labels = (np.arange(num_labels) == labels[:,None]).astype(np.float32)\n",
    "  return dataset, labels\n",
    "train_dataset, train_labels = reformat(train_dataset, train_labels)\n",
    "valid_dataset, valid_labels = reformat(valid_dataset, valid_labels)\n",
    "test_dataset, test_labels = reformat(test_dataset, test_labels)\n",
    "print('Training set', train_dataset.shape, train_labels.shape)\n",
    "print('Validation set', valid_dataset.shape, valid_labels.shape)\n",
    "print('Test set', test_dataset.shape, test_labels.shape)"
   ]
  },
  {
   "cell_type": "code",
   "execution_count": 4,
   "metadata": {
    "cellView": "both",
    "colab": {
     "autoexec": {
      "startup": false,
      "wait_interval": 0
     }
    },
    "colab_type": "code",
    "collapsed": true,
    "id": "AgQDIREv02p1"
   },
   "outputs": [],
   "source": [
    "def accuracy(predictions, labels):\n",
    "  return (100.0 * np.sum(np.argmax(predictions, 1) == np.argmax(labels, 1))\n",
    "          / predictions.shape[0])"
   ]
  },
  {
   "cell_type": "markdown",
   "metadata": {
    "colab_type": "text",
    "id": "5rhgjmROXu2O"
   },
   "source": [
    "Let's build a small network with two convolutional layers, followed by one fully connected layer. Convolutional networks are more expensive computationally, so we'll limit its depth and number of fully connected nodes."
   ]
  },
  {
   "cell_type": "code",
   "execution_count": 5,
   "metadata": {
    "cellView": "both",
    "colab": {
     "autoexec": {
      "startup": false,
      "wait_interval": 0
     }
    },
    "colab_type": "code",
    "collapsed": true,
    "id": "IZYv70SvvOan"
   },
   "outputs": [],
   "source": [
    "batch_size = 16\n",
    "patch_size = 5\n",
    "depth = 16\n",
    "num_hidden = 64\n",
    "\n",
    "graph = tf.Graph()\n",
    "\n",
    "with graph.as_default():\n",
    "\n",
    "  # Input data.\n",
    "  tf_train_dataset = tf.placeholder(\n",
    "    tf.float32, shape=(batch_size, image_size, image_size, num_channels))\n",
    "  tf_train_labels = tf.placeholder(tf.float32, shape=(batch_size, num_labels))\n",
    "  tf_valid_dataset = tf.constant(valid_dataset)\n",
    "  tf_test_dataset = tf.constant(test_dataset)\n",
    "  \n",
    "  # Variables.\n",
    "  layer1_weights = tf.Variable(tf.truncated_normal(\n",
    "      [patch_size, patch_size, num_channels, depth], stddev=0.1))\n",
    "  layer1_biases = tf.Variable(tf.zeros([depth]))\n",
    "  layer2_weights = tf.Variable(tf.truncated_normal(\n",
    "      [patch_size, patch_size, depth, depth], stddev=0.1))\n",
    "  layer2_biases = tf.Variable(tf.constant(1.0, shape=[depth]))\n",
    "  layer3_weights = tf.Variable(tf.truncated_normal(\n",
    "      [image_size // 4 * image_size // 4 * depth, num_hidden], stddev=0.1))\n",
    "  layer3_biases = tf.Variable(tf.constant(1.0, shape=[num_hidden]))\n",
    "  layer4_weights = tf.Variable(tf.truncated_normal(\n",
    "      [num_hidden, num_labels], stddev=0.1))\n",
    "  layer4_biases = tf.Variable(tf.constant(1.0, shape=[num_labels]))\n",
    "  \n",
    "  # Model.\n",
    "  def model(data):\n",
    "    conv = tf.nn.conv2d(data, layer1_weights, [1, 2, 2, 1], padding='SAME')\n",
    "    hidden = tf.nn.relu(conv + layer1_biases)\n",
    "    conv = tf.nn.conv2d(hidden, layer2_weights, [1, 2, 2, 1], padding='SAME')\n",
    "    hidden = tf.nn.relu(conv + layer2_biases)\n",
    "    shape = hidden.get_shape().as_list()\n",
    "    reshape = tf.reshape(hidden, [shape[0], shape[1] * shape[2] * shape[3]])\n",
    "    hidden = tf.nn.relu(tf.matmul(reshape, layer3_weights) + layer3_biases)\n",
    "    return tf.matmul(hidden, layer4_weights) + layer4_biases\n",
    "  \n",
    "  # Training computation.\n",
    "  logits = model(tf_train_dataset)\n",
    "  loss = tf.reduce_mean(\n",
    "    tf.nn.softmax_cross_entropy_with_logits(logits, tf_train_labels))\n",
    "    \n",
    "  # Optimizer.\n",
    "  optimizer = tf.train.GradientDescentOptimizer(0.05).minimize(loss)\n",
    "  \n",
    "  # Predictions for the training, validation, and test data.\n",
    "  train_prediction = tf.nn.softmax(logits)\n",
    "  valid_prediction = tf.nn.softmax(model(tf_valid_dataset))\n",
    "  test_prediction = tf.nn.softmax(model(tf_test_dataset))"
   ]
  },
  {
   "cell_type": "code",
   "execution_count": 6,
   "metadata": {
    "cellView": "both",
    "colab": {
     "autoexec": {
      "startup": false,
      "wait_interval": 0
     },
     "output_extras": [
      {
       "item_id": 37
      }
     ]
    },
    "colab_type": "code",
    "collapsed": false,
    "executionInfo": {
     "elapsed": 63292,
     "status": "ok",
     "timestamp": 1446658966251,
     "user": {
      "color": "",
      "displayName": "",
      "isAnonymous": false,
      "isMe": true,
      "permissionId": "",
      "photoUrl": "",
      "sessionId": "0",
      "userId": ""
     },
     "user_tz": 480
    },
    "id": "noKFb2UovVFR",
    "outputId": "28941338-2ef9-4088-8bd1-44295661e628"
   },
   "outputs": [
    {
     "name": "stdout",
     "output_type": "stream",
     "text": [
      "Initialized\n",
      "Minibatch loss at step 0: 4.069957\n",
      "Minibatch accuracy: 0.0%\n",
      "Validation accuracy: 10.4%\n",
      "Minibatch loss at step 50: 2.050407\n",
      "Minibatch accuracy: 25.0%\n",
      "Validation accuracy: 31.4%\n",
      "Minibatch loss at step 100: 0.658478\n",
      "Minibatch accuracy: 87.5%\n",
      "Validation accuracy: 48.1%\n",
      "Minibatch loss at step 150: 1.252247\n",
      "Minibatch accuracy: 62.5%\n",
      "Validation accuracy: 51.9%\n",
      "Minibatch loss at step 200: 0.763965\n",
      "Minibatch accuracy: 75.0%\n",
      "Validation accuracy: 56.8%\n",
      "Minibatch loss at step 250: 1.122011\n",
      "Minibatch accuracy: 62.5%\n",
      "Validation accuracy: 60.2%\n",
      "Minibatch loss at step 300: 0.360103\n",
      "Minibatch accuracy: 87.5%\n",
      "Validation accuracy: 62.4%\n",
      "Minibatch loss at step 350: 0.243691\n",
      "Minibatch accuracy: 93.8%\n",
      "Validation accuracy: 60.7%\n",
      "Minibatch loss at step 400: 0.327666\n",
      "Minibatch accuracy: 87.5%\n",
      "Validation accuracy: 62.5%\n",
      "Minibatch loss at step 450: 0.753511\n",
      "Minibatch accuracy: 75.0%\n",
      "Validation accuracy: 63.0%\n",
      "Minibatch loss at step 500: 0.587000\n",
      "Minibatch accuracy: 87.5%\n",
      "Validation accuracy: 63.9%\n",
      "Minibatch loss at step 550: 0.692735\n",
      "Minibatch accuracy: 81.2%\n",
      "Validation accuracy: 65.4%\n",
      "Minibatch loss at step 600: 0.562877\n",
      "Minibatch accuracy: 81.2%\n",
      "Validation accuracy: 64.7%\n",
      "Minibatch loss at step 650: 0.584115\n",
      "Minibatch accuracy: 81.2%\n",
      "Validation accuracy: 63.5%\n",
      "Minibatch loss at step 700: 0.415520\n",
      "Minibatch accuracy: 87.5%\n",
      "Validation accuracy: 65.0%\n",
      "Minibatch loss at step 750: 0.323246\n",
      "Minibatch accuracy: 87.5%\n",
      "Validation accuracy: 66.0%\n",
      "Minibatch loss at step 800: 1.178833\n",
      "Minibatch accuracy: 75.0%\n",
      "Validation accuracy: 63.9%\n",
      "Minibatch loss at step 850: 0.589467\n",
      "Minibatch accuracy: 81.2%\n",
      "Validation accuracy: 67.3%\n",
      "Minibatch loss at step 900: 0.776097\n",
      "Minibatch accuracy: 87.5%\n",
      "Validation accuracy: 66.5%\n",
      "Minibatch loss at step 950: 0.236707\n",
      "Minibatch accuracy: 93.8%\n",
      "Validation accuracy: 65.8%\n",
      "Minibatch loss at step 1000: 0.912023\n",
      "Minibatch accuracy: 75.0%\n",
      "Validation accuracy: 67.6%\n",
      "Test accuracy: 89.3%\n"
     ]
    }
   ],
   "source": [
    "num_steps = 1001\n",
    "\n",
    "with tf.Session(graph=graph) as session:\n",
    "  tf.initialize_all_variables().run()\n",
    "  print('Initialized')\n",
    "  for step in range(num_steps):\n",
    "    offset = (step * batch_size) % (train_labels.shape[0] - batch_size)\n",
    "    batch_data = train_dataset[offset:(offset + batch_size), :, :, :]\n",
    "    batch_labels = train_labels[offset:(offset + batch_size), :]\n",
    "    feed_dict = {tf_train_dataset : batch_data, tf_train_labels : batch_labels}\n",
    "    _, l, predictions = session.run(\n",
    "      [optimizer, loss, train_prediction], feed_dict=feed_dict)\n",
    "    if (step % 50 == 0):\n",
    "      print('Minibatch loss at step %d: %f' % (step, l))\n",
    "      print('Minibatch accuracy: %.1f%%' % accuracy(predictions, batch_labels))\n",
    "      print('Validation accuracy: %.1f%%' % accuracy(\n",
    "        valid_prediction.eval(), valid_labels))\n",
    "  print('Test accuracy: %.1f%%' % accuracy(test_prediction.eval(), test_labels))"
   ]
  },
  {
   "cell_type": "markdown",
   "metadata": {
    "colab_type": "text",
    "id": "KedKkn4EutIK"
   },
   "source": [
    "---\n",
    "Problem 1\n",
    "---------\n",
    "\n",
    "The convolutional model above uses convolutions with stride 2 to reduce the dimensionality. Replace the strides by a max pooling operation (`nn.max_pool()`) of stride 2 and kernel size 2.\n",
    "\n",
    "---"
   ]
  },
  {
   "cell_type": "code",
   "execution_count": 33,
   "metadata": {
    "cellView": "both",
    "colab": {
     "autoexec": {
      "startup": false,
      "wait_interval": 0
     }
    },
    "colab_type": "code",
    "collapsed": false,
    "id": "IZYv70SvvOan"
   },
   "outputs": [],
   "source": [
    "batch_size = 16\n",
    "patch_size = 5\n",
    "depth = 16\n",
    "num_hidden = 64\n",
    "\n",
    "graph = tf.Graph()\n",
    "\n",
    "with graph.as_default():\n",
    "\n",
    "  # Input data.\n",
    "  tf_train_dataset = tf.placeholder(\n",
    "    tf.float32, shape=(batch_size, image_size, image_size, num_channels))\n",
    "  tf_train_labels = tf.placeholder(tf.float32, shape=(batch_size, num_labels))\n",
    "  tf_valid_dataset = tf.constant(valid_dataset)\n",
    "  tf_test_dataset = tf.constant(test_dataset)\n",
    "  \n",
    "  # Variables.\n",
    "  layer1_weights = tf.Variable(tf.truncated_normal(\n",
    "      [patch_size, patch_size, num_channels, depth], stddev=0.1))\n",
    "  layer1_biases = tf.Variable(tf.zeros([depth]))\n",
    "  layer2_weights = tf.Variable(tf.truncated_normal(\n",
    "      [patch_size, patch_size, depth, depth], stddev=0.1))\n",
    "  layer2_biases = tf.Variable(tf.constant(1.0, shape=[depth]))\n",
    "  layer3_weights = tf.Variable(tf.truncated_normal(\n",
    "      [image_size // 4 * image_size // 4 * depth, num_hidden], stddev=0.1))\n",
    "  layer3_biases = tf.Variable(tf.constant(1.0, shape=[num_hidden]))\n",
    "  layer4_weights = tf.Variable(tf.truncated_normal(\n",
    "      [num_hidden, num_labels], stddev=0.1))\n",
    "  layer4_biases = tf.Variable(tf.constant(1.0, shape=[num_labels]))\n",
    "  \n",
    "  # Model.\n",
    "  def model(data):\n",
    "    conv = tf.nn.conv2d(data, layer1_weights, [1, 1, 1, 1], padding='SAME')\n",
    "    hidden = tf.nn.relu(conv + layer1_biases)\n",
    "    h_pool = tf.nn.max_pool(hidden, ksize=[1, 2, 2, 1], strides=[1, 2, 2, 1], padding='SAME')\n",
    "    conv = tf.nn.conv2d(h_pool, layer2_weights, [1, 1, 1, 1], padding='SAME')\n",
    "    hidden = tf.nn.relu(conv + layer2_biases)\n",
    "    h_pool = tf.nn.max_pool(hidden, ksize=[1, 2, 2, 1], strides=[1, 2, 2, 1], padding='SAME')\n",
    "    shape = h_pool.get_shape().as_list()\n",
    "    reshape = tf.reshape(h_pool, [shape[0], shape[1] * shape[2] * shape[3]])\n",
    "    hidden = tf.nn.relu(tf.matmul(reshape, layer3_weights) + layer3_biases)\n",
    "    return tf.matmul(hidden, layer4_weights) + layer4_biases\n",
    "  \n",
    "  # Training computation.\n",
    "  logits = model(tf_train_dataset)\n",
    "  loss = tf.reduce_mean(\n",
    "    tf.nn.softmax_cross_entropy_with_logits(logits, tf_train_labels))\n",
    "    \n",
    "  # Optimizer.\n",
    "  optimizer = tf.train.GradientDescentOptimizer(0.05).minimize(loss)\n",
    "  \n",
    "  # Predictions for the training, validation, and test data.\n",
    "  train_prediction = tf.nn.softmax(logits)\n",
    "  valid_prediction = tf.nn.softmax(model(tf_valid_dataset))\n",
    "  test_prediction = tf.nn.softmax(model(tf_test_dataset))"
   ]
  },
  {
   "cell_type": "code",
   "execution_count": 34,
   "metadata": {
    "cellView": "both",
    "colab": {
     "autoexec": {
      "startup": false,
      "wait_interval": 0
     },
     "output_extras": [
      {
       "item_id": 37
      }
     ]
    },
    "colab_type": "code",
    "collapsed": false,
    "executionInfo": {
     "elapsed": 63292,
     "status": "ok",
     "timestamp": 1446658966251,
     "user": {
      "color": "",
      "displayName": "",
      "isAnonymous": false,
      "isMe": true,
      "permissionId": "",
      "photoUrl": "",
      "sessionId": "0",
      "userId": ""
     },
     "user_tz": 480
    },
    "id": "noKFb2UovVFR",
    "outputId": "28941338-2ef9-4088-8bd1-44295661e628"
   },
   "outputs": [
    {
     "name": "stdout",
     "output_type": "stream",
     "text": [
      "Initialized\n",
      "Minibatch loss at step 0: 2.618979\n",
      "Minibatch accuracy: 6.2%\n",
      "Validation accuracy: 10.0%\n",
      "Minibatch loss at step 50: 2.334800\n",
      "Minibatch accuracy: 18.8%\n",
      "Validation accuracy: 23.1%\n",
      "Minibatch loss at step 100: 1.537322\n",
      "Minibatch accuracy: 43.8%\n",
      "Validation accuracy: 22.9%\n",
      "Minibatch loss at step 150: 0.983817\n",
      "Minibatch accuracy: 68.8%\n",
      "Validation accuracy: 52.7%\n",
      "Minibatch loss at step 200: 1.076541\n",
      "Minibatch accuracy: 56.2%\n",
      "Validation accuracy: 57.5%\n",
      "Minibatch loss at step 250: 1.279957\n",
      "Minibatch accuracy: 56.2%\n",
      "Validation accuracy: 61.0%\n",
      "Minibatch loss at step 300: 0.371758\n",
      "Minibatch accuracy: 87.5%\n",
      "Validation accuracy: 63.1%\n",
      "Minibatch loss at step 350: 0.139954\n",
      "Minibatch accuracy: 100.0%\n",
      "Validation accuracy: 63.9%\n",
      "Minibatch loss at step 400: 0.483642\n",
      "Minibatch accuracy: 81.2%\n",
      "Validation accuracy: 63.5%\n",
      "Minibatch loss at step 450: 0.770515\n",
      "Minibatch accuracy: 75.0%\n",
      "Validation accuracy: 63.7%\n",
      "Minibatch loss at step 500: 0.795403\n",
      "Minibatch accuracy: 75.0%\n",
      "Validation accuracy: 66.8%\n",
      "Minibatch loss at step 550: 0.942746\n",
      "Minibatch accuracy: 75.0%\n",
      "Validation accuracy: 67.0%\n",
      "Minibatch loss at step 600: 0.566083\n",
      "Minibatch accuracy: 87.5%\n",
      "Validation accuracy: 67.2%\n",
      "Minibatch loss at step 650: 0.495947\n",
      "Minibatch accuracy: 87.5%\n",
      "Validation accuracy: 68.5%\n",
      "Minibatch loss at step 700: 0.372795\n",
      "Minibatch accuracy: 87.5%\n",
      "Validation accuracy: 69.1%\n",
      "Minibatch loss at step 750: 0.369738\n",
      "Minibatch accuracy: 87.5%\n",
      "Validation accuracy: 67.6%\n",
      "Minibatch loss at step 800: 1.000415\n",
      "Minibatch accuracy: 87.5%\n",
      "Validation accuracy: 66.8%\n",
      "Minibatch loss at step 850: 0.411411\n",
      "Minibatch accuracy: 87.5%\n",
      "Validation accuracy: 69.3%\n",
      "Minibatch loss at step 900: 0.869252\n",
      "Minibatch accuracy: 87.5%\n",
      "Validation accuracy: 70.2%\n",
      "Minibatch loss at step 950: 0.207715\n",
      "Minibatch accuracy: 100.0%\n",
      "Validation accuracy: 69.8%\n",
      "Minibatch loss at step 1000: 0.846850\n",
      "Minibatch accuracy: 75.0%\n",
      "Validation accuracy: 69.7%\n",
      "Test accuracy: 90.3%\n"
     ]
    }
   ],
   "source": [
    "num_steps = 1001\n",
    "\n",
    "with tf.Session(graph=graph) as session:\n",
    "  tf.initialize_all_variables().run()\n",
    "  print('Initialized')\n",
    "  for step in range(num_steps):\n",
    "    offset = (step * batch_size) % (train_labels.shape[0] - batch_size)\n",
    "    batch_data = train_dataset[offset:(offset + batch_size), :, :, :]\n",
    "    batch_labels = train_labels[offset:(offset + batch_size), :]\n",
    "    feed_dict = {tf_train_dataset : batch_data, tf_train_labels : batch_labels}\n",
    "    _, l, predictions = session.run(\n",
    "      [optimizer, loss, train_prediction], feed_dict=feed_dict)\n",
    "    if (step % 50 == 0):\n",
    "      print('Minibatch loss at step %d: %f' % (step, l))\n",
    "      print('Minibatch accuracy: %.1f%%' % accuracy(predictions, batch_labels))\n",
    "      print('Validation accuracy: %.1f%%' % accuracy(\n",
    "        valid_prediction.eval(), valid_labels))\n",
    "  print('Test accuracy: %.1f%%' % accuracy(test_prediction.eval(), test_labels))"
   ]
  },
  {
   "cell_type": "markdown",
   "metadata": {
    "colab_type": "text",
    "id": "klf21gpbAgb-"
   },
   "source": [
    "---\n",
    "Problem 2\n",
    "---------\n",
    "\n",
    "Try to get the best performance you can using a convolutional net. Look for example at the classic [LeNet5](http://yann.lecun.com/exdb/lenet/) architecture, adding Dropout, and/or adding learning rate decay.\n",
    "\n",
    "---"
   ]
  },
  {
   "cell_type": "code",
   "execution_count": 147,
   "metadata": {
    "cellView": "both",
    "colab": {
     "autoexec": {
      "startup": false,
      "wait_interval": 0
     }
    },
    "colab_type": "code",
    "collapsed": false,
    "id": "IZYv70SvvOan"
   },
   "outputs": [],
   "source": [
    "# Add more conv layers\n",
    "batch_size = 64\n",
    "patch_size = 5\n",
    "depth_1 = 32\n",
    "depth_2 = 32\n",
    "num_hidden = 64\n",
    "\n",
    "graph = tf.Graph()\n",
    "\n",
    "with graph.as_default():\n",
    "\n",
    "  # Input data.\n",
    "  tf_train_dataset = tf.placeholder(\n",
    "    tf.float32, shape=(batch_size, image_size, image_size, num_channels))\n",
    "  tf_train_labels = tf.placeholder(tf.float32, shape=(batch_size, num_labels))\n",
    "  tf_valid_dataset = tf.constant(valid_dataset)\n",
    "  tf_test_dataset = tf.constant(test_dataset)\n",
    "  \n",
    "  # Variables.\n",
    "  layer1_weights = tf.Variable(tf.truncated_normal(\n",
    "      [patch_size, patch_size, num_channels, depth_1], stddev=0.1))\n",
    "  layer1_biases = tf.Variable(tf.zeros([depth_1]))\n",
    "  layer2_weights = tf.Variable(tf.truncated_normal(\n",
    "      [patch_size, patch_size, depth_1, depth_1], stddev=0.1))  \n",
    "  layer2_biases = tf.Variable(tf.constant(1.0, shape=[depth_1]))\n",
    "  layer3_weights = tf.Variable(tf.truncated_normal(\n",
    "      [patch_size, patch_size, depth_1, depth_2], stddev=0.1))\n",
    "  layer3_biases = tf.Variable(tf.constant(1.0, shape=[depth_2]))\n",
    "  layer4_weights = tf.Variable(tf.truncated_normal(\n",
    "      [2, 2, depth_2, depth_2], stddev=0.1))\n",
    "  layer4_biases = tf.Variable(tf.constant(1.0, shape=[depth_2]))\n",
    "  layer5_weights = tf.Variable(tf.truncated_normal(\n",
    "      [depth_2, num_hidden], stddev=0.1))\n",
    "  layer5_biases = tf.Variable(tf.constant(1.0, shape=[num_hidden]))\n",
    "  layer6_weights = tf.Variable(tf.truncated_normal(\n",
    "      [num_hidden, num_labels], stddev=0.1))\n",
    "  layer6_biases = tf.Variable(tf.constant(1.0, shape=[num_labels]))\n",
    "  keep_prob = tf.placeholder(\"float\")\n",
    "    \n",
    "  # Model.\n",
    "  def model(data):\n",
    "    conv = tf.nn.conv2d(data, layer1_weights, [1, 1, 1, 1], padding='SAME')\n",
    "    hidden = tf.nn.relu(conv + layer1_biases)\n",
    "    h_pool = tf.nn.max_pool(hidden, ksize=[1, 2, 2, 1], strides=[1, 2, 2, 1], padding='SAME')\n",
    "    conv = tf.nn.conv2d(h_pool, layer2_weights, [1, 1, 1, 1], padding='SAME')\n",
    "    hidden = tf.nn.relu(conv + layer2_biases)\n",
    "    h_pool = tf.nn.max_pool(hidden, ksize=[1, 2, 2, 1], strides=[1, 2, 2, 1], padding='SAME')\n",
    "    conv = tf.nn.conv2d(h_pool, layer3_weights, [1, 1, 1, 1], padding='VALID')\n",
    "    hidden = tf.nn.relu(conv + layer3_biases)\n",
    "    h_pool = tf.nn.max_pool(hidden, ksize=[1, 2, 2, 1], strides=[1, 2, 2, 1], padding='SAME')  \n",
    "    conv = tf.nn.conv2d(h_pool, layer4_weights, [1, 1, 1, 1], padding='VALID')\n",
    "    hidden = tf.nn.relu(conv + layer4_biases)    \n",
    "    shape = hidden.get_shape().as_list()\n",
    "    reshape = tf.reshape(hidden, [shape[0], shape[1] * shape[2] * shape[3]])\n",
    "    h_fc1_drop = tf.nn.dropout(reshape, keep_prob)\n",
    "    hidden = tf.nn.relu(tf.matmul(h_fc1_drop, layer5_weights) + layer5_biases)\n",
    "    return tf.matmul(hidden, layer6_weights) + layer6_biases\n",
    "  \n",
    "  # Training computation.\n",
    "  logits = model(tf_train_dataset)\n",
    "  C = 0.005\n",
    "  loss = tf.reduce_mean(tf.nn.softmax_cross_entropy_with_logits(logits, tf_train_labels)) + \\\n",
    "    C * (tf.nn.l2_loss(layer6_weights) + tf.nn.l2_loss(layer5_weights))\n",
    "    \n",
    "  # Optimizer.\n",
    "  global_step = tf.Variable(0, trainable=False) # count the number of steps taken.\n",
    "  learning_rate = tf.train.exponential_decay(0.05, global_step, 10000, 0.97)  \n",
    "#   optimizer = tf.train.GradientDescentOptimizer(0.05).minimize(loss)\n",
    "  optimizer = tf.train.GradientDescentOptimizer(learning_rate).minimize(loss, global_step=global_step)\n",
    "  \n",
    "  # Predictions for the training, validation, and test data.\n",
    "  train_prediction = tf.nn.softmax(logits)\n",
    "  valid_prediction = tf.nn.softmax(model(tf_valid_dataset))\n",
    "  test_prediction = tf.nn.softmax(model(tf_test_dataset))"
   ]
  },
  {
   "cell_type": "code",
   "execution_count": 148,
   "metadata": {
    "cellView": "both",
    "colab": {
     "autoexec": {
      "startup": false,
      "wait_interval": 0
     },
     "output_extras": [
      {
       "item_id": 37
      }
     ]
    },
    "colab_type": "code",
    "collapsed": false,
    "executionInfo": {
     "elapsed": 63292,
     "status": "ok",
     "timestamp": 1446658966251,
     "user": {
      "color": "",
      "displayName": "",
      "isAnonymous": false,
      "isMe": true,
      "permissionId": "",
      "photoUrl": "",
      "sessionId": "0",
      "userId": ""
     },
     "user_tz": 480
    },
    "id": "noKFb2UovVFR",
    "outputId": "28941338-2ef9-4088-8bd1-44295661e628"
   },
   "outputs": [
    {
     "name": "stdout",
     "output_type": "stream",
     "text": [
      "Initialized\n",
      "Minibatch loss at step 0: 3.116156\n",
      "Minibatch accuracy: 10.9%\n",
      "Validation accuracy: 10.0%\n",
      "Minibatch loss at step 500: 0.953602\n",
      "Minibatch accuracy: 75.0%\n",
      "Validation accuracy: 61.8%\n",
      "Minibatch loss at step 1000: 0.754872\n",
      "Minibatch accuracy: 79.7%\n",
      "Validation accuracy: 65.3%\n",
      "Minibatch loss at step 1500: 0.507935\n",
      "Minibatch accuracy: 84.4%\n",
      "Validation accuracy: 72.1%\n",
      "Minibatch loss at step 2000: 0.397281\n",
      "Minibatch accuracy: 90.6%\n",
      "Validation accuracy: 73.5%\n",
      "Minibatch loss at step 2500: 0.615623\n",
      "Minibatch accuracy: 82.8%\n",
      "Validation accuracy: 73.0%\n",
      "Minibatch loss at step 3000: 0.499430\n",
      "Minibatch accuracy: 84.4%\n",
      "Validation accuracy: 74.4%\n",
      "Minibatch loss at step 3500: 0.480713\n",
      "Minibatch accuracy: 84.4%\n",
      "Validation accuracy: 75.3%\n",
      "Minibatch loss at step 4000: 0.697069\n",
      "Minibatch accuracy: 81.2%\n",
      "Validation accuracy: 75.3%\n",
      "Minibatch loss at step 4500: 0.671578\n",
      "Minibatch accuracy: 81.2%\n",
      "Validation accuracy: 76.0%\n",
      "Minibatch loss at step 5000: 0.404246\n",
      "Minibatch accuracy: 87.5%\n",
      "Validation accuracy: 74.2%\n",
      "Minibatch loss at step 5500: 0.350251\n",
      "Minibatch accuracy: 87.5%\n",
      "Validation accuracy: 77.0%\n",
      "Minibatch loss at step 6000: 0.502809\n",
      "Minibatch accuracy: 82.8%\n",
      "Validation accuracy: 77.1%\n",
      "Minibatch loss at step 6500: 0.373655\n",
      "Minibatch accuracy: 89.1%\n",
      "Validation accuracy: 77.9%\n",
      "Minibatch loss at step 7000: 0.364893\n",
      "Minibatch accuracy: 90.6%\n",
      "Validation accuracy: 77.2%\n",
      "Minibatch loss at step 7500: 0.449935\n",
      "Minibatch accuracy: 85.9%\n",
      "Validation accuracy: 77.5%\n",
      "Minibatch loss at step 8000: 0.430782\n",
      "Minibatch accuracy: 89.1%\n",
      "Validation accuracy: 77.3%\n",
      "Minibatch loss at step 8500: 0.460696\n",
      "Minibatch accuracy: 81.2%\n",
      "Validation accuracy: 77.6%\n",
      "Minibatch loss at step 9000: 0.251367\n",
      "Minibatch accuracy: 90.6%\n",
      "Validation accuracy: 77.2%\n",
      "Minibatch loss at step 9500: 0.260157\n",
      "Minibatch accuracy: 93.8%\n",
      "Validation accuracy: 77.2%\n",
      "Minibatch loss at step 10000: 0.295705\n",
      "Minibatch accuracy: 90.6%\n",
      "Validation accuracy: 77.8%\n",
      "Minibatch loss at step 10500: 0.532369\n",
      "Minibatch accuracy: 82.8%\n",
      "Validation accuracy: 77.1%\n",
      "Minibatch loss at step 11000: 0.241199\n",
      "Minibatch accuracy: 93.8%\n",
      "Validation accuracy: 77.4%\n",
      "Minibatch loss at step 11500: 0.447611\n",
      "Minibatch accuracy: 84.4%\n",
      "Validation accuracy: 78.3%\n",
      "Minibatch loss at step 12000: 0.449772\n",
      "Minibatch accuracy: 84.4%\n",
      "Validation accuracy: 78.2%\n",
      "Minibatch loss at step 12500: 0.325107\n",
      "Minibatch accuracy: 90.6%\n",
      "Validation accuracy: 78.2%\n",
      "Minibatch loss at step 13000: 0.481924\n",
      "Minibatch accuracy: 84.4%\n",
      "Validation accuracy: 78.5%\n",
      "Minibatch loss at step 13500: 0.439938\n",
      "Minibatch accuracy: 89.1%\n",
      "Validation accuracy: 78.6%\n",
      "Minibatch loss at step 14000: 0.442452\n",
      "Minibatch accuracy: 87.5%\n",
      "Validation accuracy: 78.7%\n",
      "Minibatch loss at step 14500: 0.461408\n",
      "Minibatch accuracy: 85.9%\n",
      "Validation accuracy: 78.6%\n",
      "Minibatch loss at step 15000: 0.357571\n",
      "Minibatch accuracy: 90.6%\n",
      "Validation accuracy: 78.5%\n",
      "Minibatch loss at step 15500: 0.399970\n",
      "Minibatch accuracy: 87.5%\n",
      "Validation accuracy: 78.6%\n",
      "Minibatch loss at step 16000: 0.410235\n",
      "Minibatch accuracy: 90.6%\n",
      "Validation accuracy: 79.0%\n",
      "Minibatch loss at step 16500: 0.349381\n",
      "Minibatch accuracy: 93.8%\n",
      "Validation accuracy: 78.6%\n",
      "Minibatch loss at step 17000: 0.388320\n",
      "Minibatch accuracy: 89.1%\n",
      "Validation accuracy: 78.8%\n",
      "Minibatch loss at step 17500: 0.463166\n",
      "Minibatch accuracy: 85.9%\n",
      "Validation accuracy: 78.9%\n",
      "Minibatch loss at step 18000: 0.501943\n",
      "Minibatch accuracy: 85.9%\n",
      "Validation accuracy: 79.0%\n",
      "Minibatch loss at step 18500: 0.327067\n",
      "Minibatch accuracy: 89.1%\n",
      "Validation accuracy: 79.1%\n",
      "Minibatch loss at step 19000: 0.205556\n",
      "Minibatch accuracy: 95.3%\n",
      "Validation accuracy: 79.1%\n",
      "Minibatch loss at step 19500: 0.428771\n",
      "Minibatch accuracy: 89.1%\n",
      "Validation accuracy: 79.0%\n",
      "Minibatch loss at step 20000: 0.508464\n",
      "Minibatch accuracy: 85.9%\n",
      "Validation accuracy: 78.9%\n",
      "Test accuracy: 95.0%\n"
     ]
    }
   ],
   "source": [
    "num_steps = 20001\n",
    "\n",
    "with tf.Session(graph=graph) as session:\n",
    "  tf.initialize_all_variables().run()\n",
    "  print('Initialized')\n",
    "  for step in range(num_steps):\n",
    "    offset = (step * batch_size) % (train_labels.shape[0] - batch_size)\n",
    "    batch_data = train_dataset[offset:(offset + batch_size), :, :, :]\n",
    "    batch_labels = train_labels[offset:(offset + batch_size), :]\n",
    "#     rand_idx = np.random.choice(train_dataset.shape[0], batch_size, replace=False) \n",
    "#     batch_data = train_dataset[rand_idx, :, :, :]\n",
    "#     batch_labels = train_labels[rand_idx, :]\n",
    "    feed_dict = {tf_train_dataset : batch_data, tf_train_labels : batch_labels, keep_prob: 0.5}\n",
    "    _, l, predictions = session.run(\n",
    "      [optimizer, loss, train_prediction], feed_dict=feed_dict)\n",
    "    if (step % 500 == 0):\n",
    "      print('Minibatch loss at step %d: %f' % (step, l))\n",
    "      print('Minibatch accuracy: %.1f%%' % accuracy(predictions, batch_labels))\n",
    "      print('Validation accuracy: %.1f%%' % accuracy(\n",
    "        valid_prediction.eval(feed_dict={keep_prob: 1}), valid_labels, ))\n",
    "  print('Test accuracy: %.1f%%' % accuracy(test_prediction.eval(feed_dict={keep_prob: 1}), test_labels))"
   ]
  },
  {
   "cell_type": "code",
   "execution_count": 119,
   "metadata": {
    "cellView": "both",
    "colab": {
     "autoexec": {
      "startup": false,
      "wait_interval": 0
     }
    },
    "colab_type": "code",
    "collapsed": false,
    "id": "IZYv70SvvOan"
   },
   "outputs": [],
   "source": [
    "# Add more conv layers\n",
    "batch_size = 64\n",
    "patch_size = 5\n",
    "depth_1 = 16\n",
    "depth_2 = 64\n",
    "num_hidden = 64\n",
    "\n",
    "graph = tf.Graph()\n",
    "\n",
    "with graph.as_default():\n",
    "\n",
    "  # Input data.\n",
    "  tf_train_dataset = tf.placeholder(\n",
    "    tf.float32, shape=(batch_size, image_size, image_size, num_channels))\n",
    "  tf_train_labels = tf.placeholder(tf.float32, shape=(batch_size, num_labels))\n",
    "  tf_valid_dataset = tf.constant(valid_dataset)\n",
    "  tf_test_dataset = tf.constant(test_dataset)\n",
    "  \n",
    "  # Variables.\n",
    "  layer1_weights = tf.Variable(tf.truncated_normal(\n",
    "      [patch_size, patch_size, num_channels, depth_1], stddev=0.1))\n",
    "  layer1_biases = tf.Variable(tf.zeros([depth_1]))\n",
    "  layer2_weights = tf.Variable(tf.truncated_normal(\n",
    "      [patch_size, patch_size, depth_1, depth_1], stddev=0.1))  \n",
    "  layer2_biases = tf.Variable(tf.constant(1.0, shape=[depth_1]))\n",
    "  layer3_weights = tf.Variable(tf.truncated_normal(\n",
    "      [patch_size, patch_size, depth_1, depth_2], stddev=0.1))\n",
    "  layer3_biases = tf.Variable(tf.constant(1.0, shape=[depth_2]))\n",
    "  layer4_weights = tf.Variable(tf.truncated_normal(\n",
    "      [2 * 2 * depth_2, num_hidden], stddev=0.1))\n",
    "  layer4_biases = tf.Variable(tf.constant(1.0, shape=[num_hidden]))\n",
    "  layer5_weights = tf.Variable(tf.truncated_normal(\n",
    "      [num_hidden, num_labels], stddev=0.1))\n",
    "  layer5_biases = tf.Variable(tf.constant(1.0, shape=[num_labels]))\n",
    "  keep_prob = tf.placeholder(\"float\")\n",
    "    \n",
    "  # Model.\n",
    "  def model(data):\n",
    "    conv = tf.nn.conv2d(data, layer1_weights, [1, 1, 1, 1], padding='SAME')\n",
    "    hidden = tf.nn.relu(conv + layer1_biases)\n",
    "    h_pool = tf.nn.max_pool(hidden, ksize=[1, 2, 2, 1], strides=[1, 2, 2, 1], padding='SAME')\n",
    "    conv = tf.nn.conv2d(h_pool, layer2_weights, [1, 1, 1, 1], padding='SAME')\n",
    "    hidden = tf.nn.relu(conv + layer2_biases)\n",
    "    h_pool = tf.nn.max_pool(hidden, ksize=[1, 2, 2, 1], strides=[1, 2, 2, 1], padding='SAME')\n",
    "    conv = tf.nn.conv2d(h_pool, layer3_weights, [1, 1, 1, 1], padding='VALID')\n",
    "    hidden = tf.nn.relu(conv + layer3_biases)\n",
    "    h_pool = tf.nn.max_pool(hidden, ksize=[1, 2, 2, 1], strides=[1, 2, 2, 1], padding='SAME')  \n",
    "    shape = h_pool.get_shape().as_list()\n",
    "    reshape = tf.reshape(h_pool, [shape[0], shape[1] * shape[2] * shape[3]])\n",
    "    h_fc1_drop = tf.nn.dropout(reshape, keep_prob)\n",
    "    hidden = tf.nn.relu(tf.matmul(h_fc1_drop, layer4_weights) + layer4_biases)\n",
    "    return tf.matmul(hidden, layer5_weights) + layer5_biases\n",
    "  \n",
    "  # Training computation.\n",
    "  logits = model(tf_train_dataset)\n",
    "  C = 0.005\n",
    "  loss = tf.reduce_mean(tf.nn.softmax_cross_entropy_with_logits(logits, tf_train_labels)) + \\\n",
    "    C * (tf.nn.l2_loss(layer1_weights) + tf.nn.l2_loss(layer2_weights) + tf.nn.l2_loss(layer3_weights) + \n",
    "         tf.nn.l2_loss(layer4_weights) + tf.nn.l2_loss(layer5_weights))\n",
    "    \n",
    "  # Optimizer.\n",
    "  global_step = tf.Variable(0, trainable=False) # count the number of steps taken.\n",
    "  learning_rate = tf.train.exponential_decay(0.05, global_step, 10000, 0.97)  \n",
    "#   optimizer = tf.train.GradientDescentOptimizer(0.05).minimize(loss)\n",
    "  optimizer = tf.train.GradientDescentOptimizer(learning_rate).minimize(loss, global_step=global_step)\n",
    "  \n",
    "  # Predictions for the training, validation, and test data.\n",
    "  train_prediction = tf.nn.softmax(logits)\n",
    "  valid_prediction = tf.nn.softmax(model(tf_valid_dataset))\n",
    "  test_prediction = tf.nn.softmax(model(tf_test_dataset))"
   ]
  },
  {
   "cell_type": "code",
   "execution_count": 120,
   "metadata": {
    "cellView": "both",
    "colab": {
     "autoexec": {
      "startup": false,
      "wait_interval": 0
     },
     "output_extras": [
      {
       "item_id": 37
      }
     ]
    },
    "colab_type": "code",
    "collapsed": false,
    "executionInfo": {
     "elapsed": 63292,
     "status": "ok",
     "timestamp": 1446658966251,
     "user": {
      "color": "",
      "displayName": "",
      "isAnonymous": false,
      "isMe": true,
      "permissionId": "",
      "photoUrl": "",
      "sessionId": "0",
      "userId": ""
     },
     "user_tz": 480
    },
    "id": "noKFb2UovVFR",
    "outputId": "28941338-2ef9-4088-8bd1-44295661e628"
   },
   "outputs": [
    {
     "name": "stdout",
     "output_type": "stream",
     "text": [
      "Initialized\n",
      "Minibatch loss at step 0: 4.907928\n",
      "Minibatch accuracy: 14.1%\n",
      "Validation accuracy: 10.0%\n",
      "Minibatch loss at step 500: 1.471506\n",
      "Minibatch accuracy: 75.0%\n",
      "Validation accuracy: 67.2%\n",
      "Minibatch loss at step 1000: 1.353490\n",
      "Minibatch accuracy: 82.8%\n",
      "Validation accuracy: 70.9%\n",
      "Minibatch loss at step 1500: 1.035911\n",
      "Minibatch accuracy: 85.9%\n",
      "Validation accuracy: 73.3%\n",
      "Minibatch loss at step 2000: 0.846740\n",
      "Minibatch accuracy: 87.5%\n",
      "Validation accuracy: 74.8%\n",
      "Minibatch loss at step 2500: 0.873334\n",
      "Minibatch accuracy: 85.9%\n",
      "Validation accuracy: 75.9%\n",
      "Minibatch loss at step 3000: 0.684703\n",
      "Minibatch accuracy: 90.6%\n",
      "Validation accuracy: 76.3%\n",
      "Minibatch loss at step 3500: 0.640610\n",
      "Minibatch accuracy: 90.6%\n",
      "Validation accuracy: 76.8%\n",
      "Minibatch loss at step 4000: 0.766071\n",
      "Minibatch accuracy: 79.7%\n",
      "Validation accuracy: 76.9%\n",
      "Minibatch loss at step 4500: 0.728170\n",
      "Minibatch accuracy: 84.4%\n",
      "Validation accuracy: 75.9%\n",
      "Minibatch loss at step 5000: 0.539854\n",
      "Minibatch accuracy: 89.1%\n",
      "Validation accuracy: 77.0%\n",
      "Minibatch loss at step 5500: 0.514968\n",
      "Minibatch accuracy: 90.6%\n",
      "Validation accuracy: 78.2%\n",
      "Minibatch loss at step 6000: 0.545086\n",
      "Minibatch accuracy: 85.9%\n",
      "Validation accuracy: 77.4%\n",
      "Minibatch loss at step 6500: 0.488323\n",
      "Minibatch accuracy: 89.1%\n",
      "Validation accuracy: 78.5%\n",
      "Minibatch loss at step 7000: 0.407038\n",
      "Minibatch accuracy: 92.2%\n",
      "Validation accuracy: 77.6%\n",
      "Minibatch loss at step 7500: 0.582383\n",
      "Minibatch accuracy: 82.8%\n",
      "Validation accuracy: 78.3%\n",
      "Minibatch loss at step 8000: 0.450254\n",
      "Minibatch accuracy: 92.2%\n",
      "Validation accuracy: 77.9%\n",
      "Minibatch loss at step 8500: 0.508078\n",
      "Minibatch accuracy: 89.1%\n",
      "Validation accuracy: 79.0%\n",
      "Minibatch loss at step 9000: 0.382057\n",
      "Minibatch accuracy: 93.8%\n",
      "Validation accuracy: 79.0%\n",
      "Minibatch loss at step 9500: 0.397749\n",
      "Minibatch accuracy: 90.6%\n",
      "Validation accuracy: 79.2%\n",
      "Minibatch loss at step 10000: 0.381246\n",
      "Minibatch accuracy: 90.6%\n",
      "Validation accuracy: 78.9%\n",
      "Minibatch loss at step 10500: 0.567486\n",
      "Minibatch accuracy: 87.5%\n",
      "Validation accuracy: 77.4%\n",
      "Minibatch loss at step 11000: 0.300525\n",
      "Minibatch accuracy: 96.9%\n",
      "Validation accuracy: 79.0%\n",
      "Minibatch loss at step 11500: 0.433382\n",
      "Minibatch accuracy: 89.1%\n",
      "Validation accuracy: 79.1%\n",
      "Minibatch loss at step 12000: 0.457884\n",
      "Minibatch accuracy: 89.1%\n",
      "Validation accuracy: 78.2%\n",
      "Minibatch loss at step 12500: 0.440729\n",
      "Minibatch accuracy: 90.6%\n",
      "Validation accuracy: 79.2%\n",
      "Minibatch loss at step 13000: 0.593441\n",
      "Minibatch accuracy: 84.4%\n",
      "Validation accuracy: 78.2%\n",
      "Minibatch loss at step 13500: 0.478322\n",
      "Minibatch accuracy: 87.5%\n",
      "Validation accuracy: 78.7%\n",
      "Minibatch loss at step 14000: 0.578535\n",
      "Minibatch accuracy: 87.5%\n",
      "Validation accuracy: 78.9%\n",
      "Minibatch loss at step 14500: 0.456457\n",
      "Minibatch accuracy: 89.1%\n",
      "Validation accuracy: 79.2%\n",
      "Minibatch loss at step 15000: 0.434780\n",
      "Minibatch accuracy: 95.3%\n",
      "Validation accuracy: 79.3%\n",
      "Minibatch loss at step 15500: 0.399810\n",
      "Minibatch accuracy: 93.8%\n",
      "Validation accuracy: 78.5%\n",
      "Minibatch loss at step 16000: 0.460595\n",
      "Minibatch accuracy: 90.6%\n",
      "Validation accuracy: 79.0%\n",
      "Minibatch loss at step 16500: 0.396182\n",
      "Minibatch accuracy: 92.2%\n",
      "Validation accuracy: 79.0%\n",
      "Minibatch loss at step 17000: 0.435617\n",
      "Minibatch accuracy: 92.2%\n",
      "Validation accuracy: 79.2%\n",
      "Minibatch loss at step 17500: 0.527162\n",
      "Minibatch accuracy: 85.9%\n",
      "Validation accuracy: 78.5%\n",
      "Minibatch loss at step 18000: 0.565283\n",
      "Minibatch accuracy: 87.5%\n",
      "Validation accuracy: 78.7%\n",
      "Minibatch loss at step 18500: 0.442263\n",
      "Minibatch accuracy: 89.1%\n",
      "Validation accuracy: 79.5%\n",
      "Minibatch loss at step 19000: 0.309409\n",
      "Minibatch accuracy: 95.3%\n",
      "Validation accuracy: 79.4%\n",
      "Minibatch loss at step 19500: 0.557370\n",
      "Minibatch accuracy: 90.6%\n",
      "Validation accuracy: 77.9%\n",
      "Minibatch loss at step 20000: 0.553313\n",
      "Minibatch accuracy: 87.5%\n",
      "Validation accuracy: 79.4%\n",
      "Test accuracy: 95.2%\n"
     ]
    }
   ],
   "source": [
    "num_steps = 20001\n",
    "\n",
    "with tf.Session(graph=graph) as session:\n",
    "  tf.initialize_all_variables().run()\n",
    "  print('Initialized')\n",
    "  for step in range(num_steps):\n",
    "    offset = (step * batch_size) % (train_labels.shape[0] - batch_size)\n",
    "    batch_data = train_dataset[offset:(offset + batch_size), :, :, :]\n",
    "    batch_labels = train_labels[offset:(offset + batch_size), :]\n",
    "    feed_dict = {tf_train_dataset : batch_data, tf_train_labels : batch_labels, keep_prob: 0.5}\n",
    "    _, l, predictions = session.run(\n",
    "      [optimizer, loss, train_prediction], feed_dict=feed_dict)\n",
    "    if (step % 500 == 0):\n",
    "      print('Minibatch loss at step %d: %f' % (step, l))\n",
    "      print('Minibatch accuracy: %.1f%%' % accuracy(predictions, batch_labels))\n",
    "      print('Validation accuracy: %.1f%%' % accuracy(\n",
    "        valid_prediction.eval(feed_dict={keep_prob: 1}), valid_labels, ))\n",
    "  print('Test accuracy: %.1f%%' % accuracy(test_prediction.eval(feed_dict={keep_prob: 1}), test_labels))"
   ]
  },
  {
   "cell_type": "code",
   "execution_count": null,
   "metadata": {
    "collapsed": true
   },
   "outputs": [],
   "source": []
  }
 ],
 "metadata": {
  "colab": {
   "default_view": {},
   "name": "4_convolutions.ipynb",
   "provenance": [],
   "version": "0.3.2",
   "views": {}
  },
  "kernelspec": {
   "display_name": "Python 2",
   "language": "python",
   "name": "python2"
  },
  "language_info": {
   "codemirror_mode": {
    "name": "ipython",
    "version": 2
   },
   "file_extension": ".py",
   "mimetype": "text/x-python",
   "name": "python",
   "nbconvert_exporter": "python",
   "pygments_lexer": "ipython2",
   "version": "2.7.10"
  }
 },
 "nbformat": 4,
 "nbformat_minor": 0
}
